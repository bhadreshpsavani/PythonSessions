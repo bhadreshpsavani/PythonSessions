{
  "nbformat": 4,
  "nbformat_minor": 0,
  "metadata": {
    "colab": {
      "name": "DataStructure.ipynb",
      "provenance": [],
      "authorship_tag": "ABX9TyNQlh/5+gCsRSHtpGjSQN3d",
      "include_colab_link": true
    },
    "kernelspec": {
      "name": "python3",
      "display_name": "Python 3"
    },
    "language_info": {
      "name": "python"
    }
  },
  "cells": [
    {
      "cell_type": "markdown",
      "metadata": {
        "id": "view-in-github",
        "colab_type": "text"
      },
      "source": [
        "<a href=\"https://colab.research.google.com/github/bhadreshpsavani/PythonSessions/blob/main/DataStructure.ipynb\" target=\"_parent\"><img src=\"https://colab.research.google.com/assets/colab-badge.svg\" alt=\"Open In Colab\"/></a>"
      ]
    },
    {
      "cell_type": "code",
      "metadata": {
        "id": "-Ddw0aOsNyvE"
      },
      "source": [
        "x = \"bhadresh\"\n",
        "y = \"savani\"\n",
        "a = \"bhavexsh\"\n",
        "b = \"shardhha\""
      ],
      "execution_count": 2,
      "outputs": []
    },
    {
      "cell_type": "markdown",
      "metadata": {
        "id": "RCaXUScdOR8j"
      },
      "source": [
        "## 1. List (Mutable):"
      ]
    },
    {
      "cell_type": "code",
      "metadata": {
        "colab": {
          "base_uri": "https://localhost:8080/"
        },
        "id": "BnpPDkroRXTq",
        "outputId": "df3c5106-1b89-45a0-8ea5-ac091b4c0fbb"
      },
      "source": [
        "sample_list = list() # []\n",
        "sample_list"
      ],
      "execution_count": 26,
      "outputs": [
        {
          "output_type": "execute_result",
          "data": {
            "text/plain": [
              "[]"
            ]
          },
          "metadata": {
            "tags": []
          },
          "execution_count": 26
        }
      ]
    },
    {
      "cell_type": "code",
      "metadata": {
        "colab": {
          "base_uri": "https://localhost:8080/"
        },
        "id": "0YScy33WOEyF",
        "outputId": "a19eac0e-7c92-448d-ebab-fe6aef1502bd"
      },
      "source": [
        "name_list = [\"bhadresh\", 1, 12, 1] # hatromous\n",
        "type(name_list)"
      ],
      "execution_count": 20,
      "outputs": [
        {
          "output_type": "execute_result",
          "data": {
            "text/plain": [
              "list"
            ]
          },
          "metadata": {
            "tags": []
          },
          "execution_count": 20
        }
      ]
    },
    {
      "cell_type": "code",
      "metadata": {
        "colab": {
          "base_uri": "https://localhost:8080/"
        },
        "id": "ZxUa44t0RPmq",
        "outputId": "c09e76fd-2c85-4baa-d572-cdc41d7a9780"
      },
      "source": [
        "name_list"
      ],
      "execution_count": 24,
      "outputs": [
        {
          "output_type": "execute_result",
          "data": {
            "text/plain": [
              "['bhadresh', 1, 12, 1]"
            ]
          },
          "metadata": {
            "tags": []
          },
          "execution_count": 24
        }
      ]
    },
    {
      "cell_type": "code",
      "metadata": {
        "colab": {
          "base_uri": "https://localhost:8080/"
        },
        "id": "nPyZEJdPQtZ8",
        "outputId": "14e346d2-c479-4bbf-97be-0934625fc984"
      },
      "source": [
        "len(name_list)"
      ],
      "execution_count": 23,
      "outputs": [
        {
          "output_type": "execute_result",
          "data": {
            "text/plain": [
              "4"
            ]
          },
          "metadata": {
            "tags": []
          },
          "execution_count": 23
        }
      ]
    },
    {
      "cell_type": "code",
      "metadata": {
        "colab": {
          "base_uri": "https://localhost:8080/"
        },
        "id": "fQ36Tza2O2Cb",
        "outputId": "2c71fb8a-bc14-48f7-aba9-e29e68d42285"
      },
      "source": [
        "name_list.append(67)\n",
        "name_list"
      ],
      "execution_count": 7,
      "outputs": [
        {
          "output_type": "execute_result",
          "data": {
            "text/plain": [
              "['bhadresh', 1, 12, 1, 67]"
            ]
          },
          "metadata": {
            "tags": []
          },
          "execution_count": 7
        }
      ]
    },
    {
      "cell_type": "code",
      "metadata": {
        "colab": {
          "base_uri": "https://localhost:8080/"
        },
        "id": "uKj1a4n0PEug",
        "outputId": "f521ca17-bee6-4c4f-f7a9-2e49dfbd85a7"
      },
      "source": [
        "name_list.remove(\"bhadresh\")\n",
        "print(name_list)"
      ],
      "execution_count": 9,
      "outputs": [
        {
          "output_type": "stream",
          "text": [
            "[12, 1, 67]\n"
          ],
          "name": "stdout"
        }
      ]
    },
    {
      "cell_type": "code",
      "metadata": {
        "colab": {
          "base_uri": "https://localhost:8080/"
        },
        "id": "0DK8IJqvPnDO",
        "outputId": "cc07b4b0-36d6-4ece-99fd-03d8f4ab180b"
      },
      "source": [
        "sorted(name_list)"
      ],
      "execution_count": 14,
      "outputs": [
        {
          "output_type": "execute_result",
          "data": {
            "text/plain": [
              "[1, 12, 67]"
            ]
          },
          "metadata": {
            "tags": []
          },
          "execution_count": 14
        }
      ]
    },
    {
      "cell_type": "code",
      "metadata": {
        "colab": {
          "base_uri": "https://localhost:8080/"
        },
        "id": "UsiwrjDMP3Jd",
        "outputId": "9485e7f5-439b-47f9-8f75-33797cecde59"
      },
      "source": [
        "name_list.pop()\n",
        "name_list"
      ],
      "execution_count": 16,
      "outputs": [
        {
          "output_type": "execute_result",
          "data": {
            "text/plain": [
              "[67]"
            ]
          },
          "metadata": {
            "tags": []
          },
          "execution_count": 16
        }
      ]
    },
    {
      "cell_type": "code",
      "metadata": {
        "colab": {
          "base_uri": "https://localhost:8080/"
        },
        "id": "e8KOAmiEUkaZ",
        "outputId": "adf14746-6910-4e9d-c4d5-8c59fdf412da"
      },
      "source": [
        "for i, items in enumerate(name_list):\n",
        "  print(i, items)"
      ],
      "execution_count": 56,
      "outputs": [
        {
          "output_type": "stream",
          "text": [
            "0 bhadresh\n",
            "1 1\n",
            "2 12\n",
            "3 1\n"
          ],
          "name": "stdout"
        }
      ]
    },
    {
      "cell_type": "markdown",
      "metadata": {
        "id": "pZSYxda2Ow1r"
      },
      "source": [
        "## 2. Tuple (Unmutable)"
      ]
    },
    {
      "cell_type": "code",
      "metadata": {
        "id": "P2nBVkgNOfV6"
      },
      "source": [
        "name_tuple = (\"Bhadresh\", \"Savani\") # unmutable"
      ],
      "execution_count": 17,
      "outputs": []
    },
    {
      "cell_type": "code",
      "metadata": {
        "colab": {
          "base_uri": "https://localhost:8080/",
          "height": 35
        },
        "id": "4dfTLYBBQWaB",
        "outputId": "c07e28f7-5853-4c4f-d8a7-ac335d423346"
      },
      "source": [
        "name_tuple[0]"
      ],
      "execution_count": 18,
      "outputs": [
        {
          "output_type": "execute_result",
          "data": {
            "application/vnd.google.colaboratory.intrinsic+json": {
              "type": "string"
            },
            "text/plain": [
              "'Bhadresh'"
            ]
          },
          "metadata": {
            "tags": []
          },
          "execution_count": 18
        }
      ]
    },
    {
      "cell_type": "code",
      "metadata": {
        "colab": {
          "base_uri": "https://localhost:8080/",
          "height": 35
        },
        "id": "XDT71zHrQeGS",
        "outputId": "291b2817-3f09-47d2-8842-ffc7e5f082c1"
      },
      "source": [
        "name_tuple[1]"
      ],
      "execution_count": 19,
      "outputs": [
        {
          "output_type": "execute_result",
          "data": {
            "application/vnd.google.colaboratory.intrinsic+json": {
              "type": "string"
            },
            "text/plain": [
              "'Savani'"
            ]
          },
          "metadata": {
            "tags": []
          },
          "execution_count": 19
        }
      ]
    },
    {
      "cell_type": "code",
      "metadata": {
        "colab": {
          "base_uri": "https://localhost:8080/"
        },
        "id": "UhseF9rwU7n2",
        "outputId": "45a4f3b9-6252-414d-8143-372ce4f51db1"
      },
      "source": [
        "for item in name_tuple:\n",
        "  print(item)"
      ],
      "execution_count": 57,
      "outputs": [
        {
          "output_type": "stream",
          "text": [
            "Bhadresh\n",
            "Savani\n"
          ],
          "name": "stdout"
        }
      ]
    },
    {
      "cell_type": "markdown",
      "metadata": {
        "id": "KsQmu9xDREoA"
      },
      "source": [
        "## 3. Set (Unmutable)"
      ]
    },
    {
      "cell_type": "code",
      "metadata": {
        "colab": {
          "base_uri": "https://localhost:8080/"
        },
        "id": "NvxHoNv4QgCv",
        "outputId": "5d2353ae-da64-4579-ab90-090bf4fe211f"
      },
      "source": [
        "name_set = set()\n",
        "name_set"
      ],
      "execution_count": 27,
      "outputs": [
        {
          "output_type": "execute_result",
          "data": {
            "text/plain": [
              "set()"
            ]
          },
          "metadata": {
            "tags": []
          },
          "execution_count": 27
        }
      ]
    },
    {
      "cell_type": "code",
      "metadata": {
        "id": "_UTaaOGzRkC5"
      },
      "source": [
        "name_set = {\"Bhadresh\", \"Bhavesh\", \"Shradhha\", \"Shradhha\"}\n",
        "name_2_set = {\"Shavani\", \"Namrata\", \"Gautam\", \"Bhadresh\", \"Bhavesh\"}"
      ],
      "execution_count": 42,
      "outputs": []
    },
    {
      "cell_type": "code",
      "metadata": {
        "colab": {
          "base_uri": "https://localhost:8080/"
        },
        "id": "C8Xv2jY2SWKb",
        "outputId": "955496e7-eb9e-4e23-de4c-d3d2824ffd1b"
      },
      "source": [
        "name_set.intersection(name_2_set)"
      ],
      "execution_count": 43,
      "outputs": [
        {
          "output_type": "execute_result",
          "data": {
            "text/plain": [
              "{'Bhadresh', 'Bhavesh'}"
            ]
          },
          "metadata": {
            "tags": []
          },
          "execution_count": 43
        }
      ]
    },
    {
      "cell_type": "code",
      "metadata": {
        "colab": {
          "base_uri": "https://localhost:8080/"
        },
        "id": "2uBya3zBStcK",
        "outputId": "64973ffe-239c-449e-baf7-83cd10ce2a5b"
      },
      "source": [
        "name_set.difference(name_2_set)"
      ],
      "execution_count": 44,
      "outputs": [
        {
          "output_type": "execute_result",
          "data": {
            "text/plain": [
              "{'Shradhha'}"
            ]
          },
          "metadata": {
            "tags": []
          },
          "execution_count": 44
        }
      ]
    },
    {
      "cell_type": "code",
      "metadata": {
        "colab": {
          "base_uri": "https://localhost:8080/"
        },
        "id": "RT-7p9SMS0th",
        "outputId": "9ba4f453-e1b8-4eab-e15a-8a71229b4cdf"
      },
      "source": [
        "name_2_set.difference(name_set)"
      ],
      "execution_count": 45,
      "outputs": [
        {
          "output_type": "execute_result",
          "data": {
            "text/plain": [
              "{'Gautam', 'Namrata', 'Shavani'}"
            ]
          },
          "metadata": {
            "tags": []
          },
          "execution_count": 45
        }
      ]
    },
    {
      "cell_type": "code",
      "metadata": {
        "colab": {
          "base_uri": "https://localhost:8080/"
        },
        "id": "fnreMylOSI34",
        "outputId": "8e30e755-14c6-4460-f214-edefa7e411ff"
      },
      "source": [
        "name_set.add(\"mayur\")"
      ],
      "execution_count": 41,
      "outputs": [
        {
          "output_type": "execute_result",
          "data": {
            "text/plain": [
              "{'Bhadresh', 'Bhavesh', 'Shradhha', 'mayur'}"
            ]
          },
          "metadata": {
            "tags": []
          },
          "execution_count": 41
        }
      ]
    },
    {
      "cell_type": "code",
      "metadata": {
        "colab": {
          "base_uri": "https://localhost:8080/"
        },
        "id": "TsW0W9_WR1Sm",
        "outputId": "995dc6d3-8846-4791-b828-3513df86df49"
      },
      "source": [
        "list(name_set)"
      ],
      "execution_count": 38,
      "outputs": [
        {
          "output_type": "execute_result",
          "data": {
            "text/plain": [
              "['Bhavesh', 'Shradhha', 'Bhadresh']"
            ]
          },
          "metadata": {
            "tags": []
          },
          "execution_count": 38
        }
      ]
    },
    {
      "cell_type": "markdown",
      "metadata": {
        "id": "Fj1T9VDsS7ZZ"
      },
      "source": [
        "## Dictionary"
      ]
    },
    {
      "cell_type": "markdown",
      "metadata": {
        "id": "Ahgg2V-SS-dJ"
      },
      "source": [
        "{(key, value), (key1, value1)}"
      ]
    },
    {
      "cell_type": "code",
      "metadata": {
        "colab": {
          "base_uri": "https://localhost:8080/"
        },
        "id": "F0QhyJckR7P-",
        "outputId": "4803ce08-d8b2-4a8d-d8e4-014c040190be"
      },
      "source": [
        "sample_dict = dict()\n",
        "type(sample_dict)"
      ],
      "execution_count": 46,
      "outputs": [
        {
          "output_type": "execute_result",
          "data": {
            "text/plain": [
              "dict"
            ]
          },
          "metadata": {
            "tags": []
          },
          "execution_count": 46
        }
      ]
    },
    {
      "cell_type": "code",
      "metadata": {
        "colab": {
          "base_uri": "https://localhost:8080/"
        },
        "id": "guPfKD3-TMQP",
        "outputId": "f405e2c4-8291-40ad-b862-3a271da0f4a3"
      },
      "source": [
        "type({})"
      ],
      "execution_count": 47,
      "outputs": [
        {
          "output_type": "execute_result",
          "data": {
            "text/plain": [
              "dict"
            ]
          },
          "metadata": {
            "tags": []
          },
          "execution_count": 47
        }
      ]
    },
    {
      "cell_type": "code",
      "metadata": {
        "colab": {
          "base_uri": "https://localhost:8080/"
        },
        "id": "srwUeFe9TOyp",
        "outputId": "9aa75f5c-f889-4ae8-e910-9c2cf7c03a49"
      },
      "source": [
        "sample_dict = {\"bhadresh\":\"NLP Engineer\", \"bhavesh\":\"Mechatronics Engineer\"}\n",
        "sample_dict"
      ],
      "execution_count": 48,
      "outputs": [
        {
          "output_type": "execute_result",
          "data": {
            "text/plain": [
              "{'bhadresh': 'NLP Engineer', 'bhavesh': 'Mechatronics Engineer'}"
            ]
          },
          "metadata": {
            "tags": []
          },
          "execution_count": 48
        }
      ]
    },
    {
      "cell_type": "code",
      "metadata": {
        "colab": {
          "base_uri": "https://localhost:8080/",
          "height": 35
        },
        "id": "1s81v-UiTgGJ",
        "outputId": "a36171de-df8e-4eef-a239-efca90f0c39f"
      },
      "source": [
        "sample_dict[\"bhadresh\"]"
      ],
      "execution_count": 49,
      "outputs": [
        {
          "output_type": "execute_result",
          "data": {
            "application/vnd.google.colaboratory.intrinsic+json": {
              "type": "string"
            },
            "text/plain": [
              "'NLP Engineer'"
            ]
          },
          "metadata": {
            "tags": []
          },
          "execution_count": 49
        }
      ]
    },
    {
      "cell_type": "code",
      "metadata": {
        "colab": {
          "base_uri": "https://localhost:8080/"
        },
        "id": "lZ9SOdgsTkb2",
        "outputId": "614ce9ac-b6be-43d7-e9b0-c757c82f0078"
      },
      "source": [
        "sample_dict.update({\"shradhha\": \"Mechatronics Engineer\", \"Mayur\": \"Java Developer\"})\n",
        "sample_dict"
      ],
      "execution_count": 50,
      "outputs": [
        {
          "output_type": "execute_result",
          "data": {
            "text/plain": [
              "{'Mayur': 'Java Developer',\n",
              " 'bhadresh': 'NLP Engineer',\n",
              " 'bhavesh': 'Mechatronics Engineer',\n",
              " 'shradhha': 'Mechatronics Engineer'}"
            ]
          },
          "metadata": {
            "tags": []
          },
          "execution_count": 50
        }
      ]
    },
    {
      "cell_type": "code",
      "metadata": {
        "colab": {
          "base_uri": "https://localhost:8080/"
        },
        "id": "vi98KcIMUEWP",
        "outputId": "8871e2b7-3d40-45e2-9dfc-eae3cc0f7e2f"
      },
      "source": [
        "sample_dict[\"Namrata\"]=\"Java Developer\"\n",
        "sample_dict"
      ],
      "execution_count": 51,
      "outputs": [
        {
          "output_type": "execute_result",
          "data": {
            "text/plain": [
              "{'Mayur': 'Java Developer',\n",
              " 'Namrata': 'Java Developer',\n",
              " 'bhadresh': 'NLP Engineer',\n",
              " 'bhavesh': 'Mechatronics Engineer',\n",
              " 'shradhha': 'Mechatronics Engineer'}"
            ]
          },
          "metadata": {
            "tags": []
          },
          "execution_count": 51
        }
      ]
    },
    {
      "cell_type": "code",
      "metadata": {
        "colab": {
          "base_uri": "https://localhost:8080/",
          "height": 35
        },
        "id": "m9duKZh6UMuk",
        "outputId": "57a3e611-2137-48a1-9812-5fd5d43b13a6"
      },
      "source": [
        "sample_dict.pop('Namrata')"
      ],
      "execution_count": 53,
      "outputs": [
        {
          "output_type": "execute_result",
          "data": {
            "application/vnd.google.colaboratory.intrinsic+json": {
              "type": "string"
            },
            "text/plain": [
              "'Java Developer'"
            ]
          },
          "metadata": {
            "tags": []
          },
          "execution_count": 53
        }
      ]
    },
    {
      "cell_type": "code",
      "metadata": {
        "colab": {
          "base_uri": "https://localhost:8080/"
        },
        "id": "Ilw-hRUFUT9Y",
        "outputId": "17ef56c3-cb99-49ce-e4c2-3f84a28647d3"
      },
      "source": [
        "sample_dict"
      ],
      "execution_count": 54,
      "outputs": [
        {
          "output_type": "execute_result",
          "data": {
            "text/plain": [
              "{'Mayur': 'Java Developer',\n",
              " 'bhadresh': 'NLP Engineer',\n",
              " 'bhavesh': 'Mechatronics Engineer',\n",
              " 'shradhha': 'Mechatronics Engineer'}"
            ]
          },
          "metadata": {
            "tags": []
          },
          "execution_count": 54
        }
      ]
    },
    {
      "cell_type": "code",
      "metadata": {
        "colab": {
          "base_uri": "https://localhost:8080/"
        },
        "id": "_yoWF-lDUdN2",
        "outputId": "3e69b040-73b8-499c-d6ba-cd5470bce3b2"
      },
      "source": [
        "for item in sample_dict.items():\n",
        "  print(type(item))"
      ],
      "execution_count": 71,
      "outputs": [
        {
          "output_type": "stream",
          "text": [
            "<class 'tuple'>\n",
            "<class 'tuple'>\n",
            "<class 'tuple'>\n",
            "<class 'tuple'>\n"
          ],
          "name": "stdout"
        }
      ]
    },
    {
      "cell_type": "code",
      "metadata": {
        "colab": {
          "base_uri": "https://localhost:8080/"
        },
        "id": "D57Uei52Wdfp",
        "outputId": "e4080497-dbe7-4e91-a911-2589e390867e"
      },
      "source": [
        "def sample_function():\n",
        "  x = 3+4\n",
        "  y = 5+6\n",
        "  return x, y\n",
        "type(sample_function())"
      ],
      "execution_count": 72,
      "outputs": [
        {
          "output_type": "execute_result",
          "data": {
            "text/plain": [
              "tuple"
            ]
          },
          "metadata": {
            "tags": []
          },
          "execution_count": 72
        }
      ]
    },
    {
      "cell_type": "code",
      "metadata": {
        "colab": {
          "base_uri": "https://localhost:8080/"
        },
        "id": "YXInMqTwXm_X",
        "outputId": "99f52761-858b-4513-dd6d-faebb36a6bfb"
      },
      "source": [
        "sample_function()"
      ],
      "execution_count": 73,
      "outputs": [
        {
          "output_type": "execute_result",
          "data": {
            "text/plain": [
              "(7, 11)"
            ]
          },
          "metadata": {
            "tags": []
          },
          "execution_count": 73
        }
      ]
    },
    {
      "cell_type": "code",
      "metadata": {
        "colab": {
          "base_uri": "https://localhost:8080/"
        },
        "id": "dDu17p8uVH8D",
        "outputId": "b307a27b-42b5-44d9-9c7b-8e955a44e8da"
      },
      "source": [
        "set(sample_dict.values())"
      ],
      "execution_count": 69,
      "outputs": [
        {
          "output_type": "execute_result",
          "data": {
            "text/plain": [
              "{'Java Developer', 'Mechatronics Engineer', 'NLP Engineer'}"
            ]
          },
          "metadata": {
            "tags": []
          },
          "execution_count": 69
        }
      ]
    },
    {
      "cell_type": "code",
      "metadata": {
        "colab": {
          "base_uri": "https://localhost:8080/"
        },
        "id": "i4JOSNT8VeQC",
        "outputId": "98f0a158-a473-43c1-9709-5895ae07187b"
      },
      "source": [
        "sample_dict.items()"
      ],
      "execution_count": 62,
      "outputs": [
        {
          "output_type": "execute_result",
          "data": {
            "text/plain": [
              "dict_items([('bhadresh', 'NLP Engineer'), ('bhavesh', 'Mechatronics Engineer'), ('shradhha', 'Mechatronics Engineer'), ('Mayur', 'Java Developer')])"
            ]
          },
          "metadata": {
            "tags": []
          },
          "execution_count": 62
        }
      ]
    },
    {
      "cell_type": "code",
      "metadata": {
        "colab": {
          "base_uri": "https://localhost:8080/",
          "height": 35
        },
        "id": "38AH3tb_VjFr",
        "outputId": "088b026a-b401-4a03-e218-d564198ab260"
      },
      "source": [
        "list(sample_dict.keys())[0]"
      ],
      "execution_count": 65,
      "outputs": [
        {
          "output_type": "execute_result",
          "data": {
            "application/vnd.google.colaboratory.intrinsic+json": {
              "type": "string"
            },
            "text/plain": [
              "'bhadresh'"
            ]
          },
          "metadata": {
            "tags": []
          },
          "execution_count": 65
        }
      ]
    },
    {
      "cell_type": "code",
      "metadata": {
        "colab": {
          "base_uri": "https://localhost:8080/"
        },
        "id": "74OsXv0bVns5",
        "outputId": "fb4c1614-6c9e-456a-af79-cff064206401"
      },
      "source": [
        "sample_dict.keys()"
      ],
      "execution_count": 68,
      "outputs": [
        {
          "output_type": "execute_result",
          "data": {
            "text/plain": [
              "dict_keys(['bhadresh', 'bhavesh', 'shradhha', 'Mayur'])"
            ]
          },
          "metadata": {
            "tags": []
          },
          "execution_count": 68
        }
      ]
    },
    {
      "cell_type": "code",
      "metadata": {
        "colab": {
          "base_uri": "https://localhost:8080/"
        },
        "id": "txd98wZHX5e9",
        "outputId": "99e246c7-5334-472d-b02c-315312971d14"
      },
      "source": [
        "sample_dict"
      ],
      "execution_count": 74,
      "outputs": [
        {
          "output_type": "execute_result",
          "data": {
            "text/plain": [
              "{'Mayur': 'Java Developer',\n",
              " 'bhadresh': 'NLP Engineer',\n",
              " 'bhavesh': 'Mechatronics Engineer',\n",
              " 'shradhha': 'Mechatronics Engineer'}"
            ]
          },
          "metadata": {
            "tags": []
          },
          "execution_count": 74
        }
      ]
    },
    {
      "cell_type": "markdown",
      "metadata": {
        "id": "XeKOpOhQYNX3"
      },
      "source": [
        "## List Comprehension"
      ]
    },
    {
      "cell_type": "code",
      "metadata": {
        "id": "Wgq19Ku6VvLx"
      },
      "source": [
        "sample_list = list(sample_dict.keys())\n",
        "sample_list = sample_list*100"
      ],
      "execution_count": 91,
      "outputs": []
    },
    {
      "cell_type": "code",
      "metadata": {
        "colab": {
          "base_uri": "https://localhost:8080/"
        },
        "id": "KtdftU2CYKlY",
        "outputId": "ef97feaf-8704-4d92-c1b1-ff423a526361"
      },
      "source": [
        "%%timeit\n",
        "result = []\n",
        "for item in sample_list:\n",
        "  if len(item)>5:\n",
        "    result.append(item)"
      ],
      "execution_count": 92,
      "outputs": [
        {
          "output_type": "stream",
          "text": [
            "10000 loops, best of 5: 46.8 µs per loop\n"
          ],
          "name": "stdout"
        }
      ]
    },
    {
      "cell_type": "code",
      "metadata": {
        "id": "Tc746MZxYW_J"
      },
      "source": [
        "result = [item for item in sample_list if len(item)>5]"
      ],
      "execution_count": 98,
      "outputs": []
    },
    {
      "cell_type": "code",
      "metadata": {
        "colab": {
          "base_uri": "https://localhost:8080/"
        },
        "id": "ZN-jisZsYtqm",
        "outputId": "904becbc-2c9d-475b-88ba-f51db3595c4d"
      },
      "source": [
        "type(result)"
      ],
      "execution_count": 100,
      "outputs": [
        {
          "output_type": "execute_result",
          "data": {
            "text/plain": [
              "list"
            ]
          },
          "metadata": {
            "tags": []
          },
          "execution_count": 100
        }
      ]
    },
    {
      "cell_type": "code",
      "metadata": {
        "colab": {
          "base_uri": "https://localhost:8080/",
          "height": 35
        },
        "id": "1Fx7YmjPZkVG",
        "outputId": "a068eb9b-9355-4219-f496-b3ef03d02396"
      },
      "source": [
        "result[0]"
      ],
      "execution_count": 101,
      "outputs": [
        {
          "output_type": "execute_result",
          "data": {
            "application/vnd.google.colaboratory.intrinsic+json": {
              "type": "string"
            },
            "text/plain": [
              "'bhadresh'"
            ]
          },
          "metadata": {
            "tags": []
          },
          "execution_count": 101
        }
      ]
    },
    {
      "cell_type": "code",
      "metadata": {
        "colab": {
          "base_uri": "https://localhost:8080/"
        },
        "id": "GRuPlq4zZtaq",
        "outputId": "2112cd0e-914c-4c73-e521-869fd3e57a29"
      },
      "source": [
        "[\"Bhadresh\", \"Savani\"]*3"
      ],
      "execution_count": 103,
      "outputs": [
        {
          "output_type": "execute_result",
          "data": {
            "text/plain": [
              "['Bhadresh', 'Savani', 'Bhadresh', 'Savani', 'Bhadresh', 'Savani']"
            ]
          },
          "metadata": {
            "tags": []
          },
          "execution_count": 103
        }
      ]
    },
    {
      "cell_type": "code",
      "metadata": {
        "id": "Ofla4s9zZ8HG"
      },
      "source": [
        ""
      ],
      "execution_count": null,
      "outputs": []
    }
  ]
}