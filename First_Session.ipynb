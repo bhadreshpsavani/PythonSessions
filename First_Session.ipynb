{
  "nbformat": 4,
  "nbformat_minor": 0,
  "metadata": {
    "colab": {
      "name": "First_Session.ipynb",
      "provenance": [],
      "authorship_tag": "ABX9TyMYIxBgyO4eZIGLjgAU4JO6",
      "include_colab_link": true
    },
    "kernelspec": {
      "name": "python3",
      "display_name": "Python 3"
    }
  },
  "cells": [
    {
      "cell_type": "markdown",
      "metadata": {
        "id": "view-in-github",
        "colab_type": "text"
      },
      "source": [
        "<a href=\"https://colab.research.google.com/github/bhadreshpsavani/PythonSessions/blob/main/First_Session.ipynb\" target=\"_parent\"><img src=\"https://colab.research.google.com/assets/colab-badge.svg\" alt=\"Open In Colab\"/></a>"
      ]
    },
    {
      "cell_type": "markdown",
      "metadata": {
        "id": "ttsWbJPfCApx"
      },
      "source": [
        " # Day one (16 / 03 / 2021)\r\n",
        " Varible\r\n",
        " Function\r\n",
        " Loop - for , while \r\n",
        " Create Class"
      ]
    },
    {
      "cell_type": "code",
      "metadata": {
        "colab": {
          "base_uri": "https://localhost:8080/"
        },
        "id": "ZK4kgsCuBYTB",
        "outputId": "1d6c575e-e9fb-430c-f0ee-211e64f677c2"
      },
      "source": [
        "## Variables\r\n",
        "var = 9\r\n",
        "print(type(var), var)"
      ],
      "execution_count": 20,
      "outputs": [
        {
          "output_type": "stream",
          "text": [
            "<class 'int'> 9\n"
          ],
          "name": "stdout"
        }
      ]
    },
    {
      "cell_type": "code",
      "metadata": {
        "id": "l4PA1j0JBzhF"
      },
      "source": [
        "# single line comment\r\n",
        "\"\"\"\r\n",
        "Multiline comment\r\n",
        "\"\"\"\r\n",
        "\r\n",
        "\"\"\"\r\n",
        "Programming languages:\r\n",
        "    1. Functional\r\n",
        "    2. Object Oriented ex Pythpon, Java\r\n",
        "\"\"\""
      ],
      "execution_count": null,
      "outputs": []
    },
    {
      "cell_type": "code",
      "metadata": {
        "colab": {
          "base_uri": "https://localhost:8080/"
        },
        "id": "lOo4wAYTB02g",
        "outputId": "5fa5841f-3d89-4614-df4a-e56cd90a47ba"
      },
      "source": [
        "## Loops\r\n",
        "items_list = [9, 8, 6, \"bhadresh\"]\r\n",
        "\r\n",
        "for i in items_list:\r\n",
        "    if i==9:\r\n",
        "        print(\"9 is found\")\r\n",
        "    elif i==\"bhadresh\":\r\n",
        "        print(\"My Name is found\")\r\n",
        "    else:\r\n",
        "        print(i)"
      ],
      "execution_count": 21,
      "outputs": [
        {
          "output_type": "stream",
          "text": [
            "9 is found\n",
            "8\n",
            "6\n",
            "My Name is found\n"
          ],
          "name": "stdout"
        }
      ]
    },
    {
      "cell_type": "code",
      "metadata": {
        "colab": {
          "base_uri": "https://localhost:8080/"
        },
        "id": "z3ciJOzoBrFQ",
        "outputId": "e7e15b77-f35d-473c-fa62-4b59e99ec523"
      },
      "source": [
        "# while loop\r\n",
        "x = 5\r\n",
        "while x>0:\r\n",
        "    print(x)\r\n",
        "    x-=1"
      ],
      "execution_count": 22,
      "outputs": [
        {
          "output_type": "stream",
          "text": [
            "5\n",
            "4\n",
            "3\n",
            "2\n",
            "1\n"
          ],
          "name": "stdout"
        }
      ]
    },
    {
      "cell_type": "code",
      "metadata": {
        "colab": {
          "base_uri": "https://localhost:8080/"
        },
        "id": "mcmI9lwrBpp4",
        "outputId": "56105fdb-8cd0-4f61-e631-fe6c1ac29caa"
      },
      "source": [
        "## Functions\r\n",
        "def func():\r\n",
        "    x = 5\r\n",
        "    y = 10\r\n",
        "    summ = x + y # summation\r\n",
        "    minu = y - x # substractiom\r\n",
        "    div = x / y # division\r\n",
        "    mult = x * y # multiplication\r\n",
        "    explict_div = y//x \r\n",
        "    print(summ, minu, explict_div, div, mult)\r\n",
        "    \r\n",
        "func()"
      ],
      "execution_count": 23,
      "outputs": [
        {
          "output_type": "stream",
          "text": [
            "15 5 2 0.5 50\n"
          ],
          "name": "stdout"
        }
      ]
    },
    {
      "cell_type": "code",
      "metadata": {
        "colab": {
          "base_uri": "https://localhost:8080/"
        },
        "id": "mJN8dnjMBlza",
        "outputId": "21c51b37-ab55-49f6-d992-1c030212fb14"
      },
      "source": [
        "# doc string : documentation\r\n",
        "\r\n",
        "class MyClass:\r\n",
        "    \"\"\"\r\n",
        "    Attributes: Variables\r\n",
        "    Methods: Function \r\n",
        "    \"\"\"\r\n",
        "        \r\n",
        "    var = \"My Variable\"\r\n",
        "    def print_class(self, x):\r\n",
        "        x += 10 + 5\r\n",
        "        return x\r\n",
        "\r\n",
        "obect = MyClass()\r\n",
        "print(obect.print_class(2))\r\n",
        "print(obect.var)"
      ],
      "execution_count": 24,
      "outputs": [
        {
          "output_type": "stream",
          "text": [
            "17\n",
            "My Variable\n"
          ],
          "name": "stdout"
        }
      ]
    },
    {
      "cell_type": "code",
      "metadata": {
        "id": "Qjc7TplL_q1d"
      },
      "source": [
        "# !pip install transformers\r\n",
        "# For installing packages"
      ],
      "execution_count": 25,
      "outputs": []
    },
    {
      "cell_type": "code",
      "metadata": {
        "id": "CBzdK2xw2TgU"
      },
      "source": [
        "class Person:\r\n",
        "  \"\"\"\r\n",
        "  Simple Person Class\r\n",
        "  \"\"\"\r\n",
        "  def __init__(self, name, age):\r\n",
        "    self.name = name\r\n",
        "    self.age = age\r\n",
        "  \r\n",
        "  def getAge(self):\r\n",
        "    return self.age"
      ],
      "execution_count": 26,
      "outputs": []
    },
    {
      "cell_type": "code",
      "metadata": {
        "colab": {
          "base_uri": "https://localhost:8080/"
        },
        "id": "QA8_FCnC8qGh",
        "outputId": "e04c83ec-fd2b-4bbb-b0a9-23dc5d49ecf0"
      },
      "source": [
        "bk = Person(\"Bhavesh\", 24)\r\n",
        "bk.getAge()"
      ],
      "execution_count": 27,
      "outputs": [
        {
          "output_type": "execute_result",
          "data": {
            "text/plain": [
              "24"
            ]
          },
          "metadata": {
            "tags": []
          },
          "execution_count": 27
        }
      ]
    },
    {
      "cell_type": "code",
      "metadata": {
        "colab": {
          "base_uri": "https://localhost:8080/"
        },
        "id": "nHs6SA0r84a7",
        "outputId": "f04f6c98-e329-4f85-afdd-d699cb40bd9e"
      },
      "source": [
        "srad = Person(\"Sharddha\", 23)\r\n",
        "srad.getAge()"
      ],
      "execution_count": 28,
      "outputs": [
        {
          "output_type": "execute_result",
          "data": {
            "text/plain": [
              "23"
            ]
          },
          "metadata": {
            "tags": []
          },
          "execution_count": 28
        }
      ]
    },
    {
      "cell_type": "code",
      "metadata": {
        "id": "r3SXLeSD9Gdf"
      },
      "source": [
        "class Employee(Person):\r\n",
        "  def __init__(self, name, age):\r\n",
        "    super().__init__(name, age)\r\n",
        "    self.occupation=None\r\n",
        "  \r\n",
        "  def setOccupation(self, occupation):\r\n",
        "    self.occupation=occupation"
      ],
      "execution_count": 29,
      "outputs": []
    },
    {
      "cell_type": "code",
      "metadata": {
        "id": "x2Ov01i--Cge"
      },
      "source": [
        "bhadresh = Employee(\"Bhadresh\", 23)"
      ],
      "execution_count": 30,
      "outputs": []
    },
    {
      "cell_type": "code",
      "metadata": {
        "id": "AEUXqksa-Wt2"
      },
      "source": [
        "bhadresh.setOccupation(\"NLP ENgineer\")"
      ],
      "execution_count": 31,
      "outputs": []
    },
    {
      "cell_type": "code",
      "metadata": {
        "colab": {
          "base_uri": "https://localhost:8080/",
          "height": 35
        },
        "id": "SDJMBlB4-py4",
        "outputId": "c6d83e9e-b36b-4505-e54f-e9dafc985aac"
      },
      "source": [
        "bhadresh.occupation"
      ],
      "execution_count": 32,
      "outputs": [
        {
          "output_type": "execute_result",
          "data": {
            "application/vnd.google.colaboratory.intrinsic+json": {
              "type": "string"
            },
            "text/plain": [
              "'NLP ENgineer'"
            ]
          },
          "metadata": {
            "tags": []
          },
          "execution_count": 32
        }
      ]
    }
  ]
}