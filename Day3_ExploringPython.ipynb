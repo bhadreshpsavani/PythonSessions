{
  "nbformat": 4,
  "nbformat_minor": 0,
  "metadata": {
    "colab": {
      "name": "Day3-ExploringPython.ipynb",
      "provenance": [],
      "toc_visible": true,
      "authorship_tag": "ABX9TyMWBaa7zVru+zsWox6/OOBo",
      "include_colab_link": true
    },
    "kernelspec": {
      "name": "python3",
      "display_name": "Python 3"
    },
    "language_info": {
      "name": "python"
    }
  },
  "cells": [
    {
      "cell_type": "markdown",
      "metadata": {
        "id": "view-in-github",
        "colab_type": "text"
      },
      "source": [
        "<a href=\"https://colab.research.google.com/github/bhadreshpsavani/PythonSessions/blob/main/Day3_ExploringPython.ipynb\" target=\"_parent\"><img src=\"https://colab.research.google.com/assets/colab-badge.svg\" alt=\"Open In Colab\"/></a>"
      ]
    },
    {
      "cell_type": "markdown",
      "metadata": {
        "id": "lR9dJKe2Uqt3"
      },
      "source": [
        "1. More about Comprehension\n",
        "2. Map and Zip\n",
        "3. EQual / not Equal\n",
        "6. lambda function\n",
        "7. ternary function\n",
        "4. File IO - \n",
        "5. Excptions - https://www.programiz.com/python-programming/exceptions\n"
      ]
    },
    {
      "cell_type": "markdown",
      "metadata": {
        "id": "PsAZZjTBWFq8"
      },
      "source": [
        "## 1. More about Comprehension"
      ]
    },
    {
      "cell_type": "code",
      "metadata": {
        "id": "_XakIS0qWFJL"
      },
      "source": [
        "name = [\"bhadresh\", \"bhavesh\", \"shradha\"]\n",
        "name2 = [8 , 7, 7]\n",
        "job_role = [\"B NLP Engineer\", \"MEctatronics\", \"Mechatronics\"]"
      ],
      "execution_count": 3,
      "outputs": []
    },
    {
      "cell_type": "code",
      "metadata": {
        "colab": {
          "base_uri": "https://localhost:8080/"
        },
        "id": "amo1aFtPUf-W",
        "outputId": "edea1753-6f86-45a6-f226-dcd5f5985676"
      },
      "source": [
        "[True for n in name for n2 in name2 if len(n)==n2] "
      ],
      "execution_count": 5,
      "outputs": [
        {
          "output_type": "execute_result",
          "data": {
            "text/plain": [
              "[True, True, True, True, True]"
            ]
          },
          "metadata": {
            "tags": []
          },
          "execution_count": 5
        }
      ]
    },
    {
      "cell_type": "code",
      "metadata": {
        "colab": {
          "base_uri": "https://localhost:8080/"
        },
        "id": "5OHxGMSTXLRv",
        "outputId": "2298885b-165c-499f-d50b-64fd0e24bc8c"
      },
      "source": [
        "result = []\n",
        "for n in name:\n",
        "  for n2 in name2:\n",
        "    if len(n)==n2:\n",
        "      result.append(True)\n",
        "result"
      ],
      "execution_count": 6,
      "outputs": [
        {
          "output_type": "execute_result",
          "data": {
            "text/plain": [
              "[True, True, True, True, True]"
            ]
          },
          "metadata": {
            "tags": []
          },
          "execution_count": 6
        }
      ]
    },
    {
      "cell_type": "code",
      "metadata": {
        "colab": {
          "base_uri": "https://localhost:8080/"
        },
        "id": "j43_qafRXqPT",
        "outputId": "f6fd9812-545a-489e-f5a7-b7cfbf43d543"
      },
      "source": [
        "for items in zip(name, name2):\n",
        "  print(items)"
      ],
      "execution_count": 8,
      "outputs": [
        {
          "output_type": "stream",
          "text": [
            "('bhadresh', 8)\n",
            "('bhavesh', 7)\n",
            "('shradha', 7)\n"
          ],
          "name": "stdout"
        }
      ]
    },
    {
      "cell_type": "code",
      "metadata": {
        "colab": {
          "base_uri": "https://localhost:8080/"
        },
        "id": "4nrpMft2X5QF",
        "outputId": "497480a7-19f3-441b-f86b-3daa261e9a2b"
      },
      "source": [
        "def fun(n):\n",
        "  return n+1\n",
        "\n",
        "fun(9)"
      ],
      "execution_count": 9,
      "outputs": [
        {
          "output_type": "execute_result",
          "data": {
            "text/plain": [
              "10"
            ]
          },
          "metadata": {
            "tags": []
          },
          "execution_count": 9
        }
      ]
    },
    {
      "cell_type": "code",
      "metadata": {
        "id": "Gm1DXCcvYlbX"
      },
      "source": [
        "job_role = [\"NLP\", \"MEctatronics\", \"Mechatronics\"]"
      ],
      "execution_count": 17,
      "outputs": []
    },
    {
      "cell_type": "code",
      "metadata": {
        "colab": {
          "base_uri": "https://localhost:8080/"
        },
        "id": "ZJY2gfELYaXy",
        "outputId": "26d5982f-f455-4604-93d5-20f439ff7170"
      },
      "source": [
        "job_role.sort()\n",
        "job_role"
      ],
      "execution_count": 18,
      "outputs": [
        {
          "output_type": "execute_result",
          "data": {
            "text/plain": [
              "['MEctatronics', 'Mechatronics', 'NLP']"
            ]
          },
          "metadata": {
            "tags": []
          },
          "execution_count": 18
        }
      ]
    },
    {
      "cell_type": "code",
      "metadata": {
        "colab": {
          "base_uri": "https://localhost:8080/"
        },
        "id": "lJVs8r0gYdPH",
        "outputId": "40c3d9b2-f59c-4ab4-ffbc-1c943c003666"
      },
      "source": [
        "job_role.sort(key=lambda x:len(x)) #lambda\n",
        "job_role"
      ],
      "execution_count": 19,
      "outputs": [
        {
          "output_type": "execute_result",
          "data": {
            "text/plain": [
              "['NLP', 'MEctatronics', 'Mechatronics']"
            ]
          },
          "metadata": {
            "tags": []
          },
          "execution_count": 19
        }
      ]
    },
    {
      "cell_type": "code",
      "metadata": {
        "id": "3rO0IdpIZuIj"
      },
      "source": [
        "lambda input: return function "
      ],
      "execution_count": null,
      "outputs": []
    },
    {
      "cell_type": "code",
      "metadata": {
        "id": "buDdgkI9Zg9D"
      },
      "source": [
        "def complex(x, y):\n",
        "  return x/y**2"
      ],
      "execution_count": null,
      "outputs": []
    },
    {
      "cell_type": "code",
      "metadata": {
        "colab": {
          "base_uri": "https://localhost:8080/"
        },
        "id": "pvE0tIQ1aqLL",
        "outputId": "b2b8d059-01e2-4fcb-9b1a-38170f28bef9"
      },
      "source": [
        "def sample(y): \n",
        "  return y**2\n",
        "\n",
        "mass=[4,5,6,7]\n",
        "bmi=map(sample ,mass)\n",
        "list(bmi)"
      ],
      "execution_count": 44,
      "outputs": [
        {
          "output_type": "execute_result",
          "data": {
            "text/plain": [
              "[16, 25, 36, 49]"
            ]
          },
          "metadata": {
            "tags": []
          },
          "execution_count": 44
        }
      ]
    },
    {
      "cell_type": "code",
      "metadata": {
        "colab": {
          "base_uri": "https://localhost:8080/"
        },
        "id": "ZXawJcvebfHb",
        "outputId": "7f1da8d9-e808-4b75-a097-7726fe3f5433"
      },
      "source": [
        "mass=[4,5,6,7]\n",
        "bmi=map(lambda x:x**2, mass)\n",
        "list(bmi)"
      ],
      "execution_count": 47,
      "outputs": [
        {
          "output_type": "execute_result",
          "data": {
            "text/plain": [
              "[16, 25, 36, 49]"
            ]
          },
          "metadata": {
            "tags": []
          },
          "execution_count": 47
        }
      ]
    },
    {
      "cell_type": "code",
      "metadata": {
        "colab": {
          "base_uri": "https://localhost:8080/"
        },
        "id": "mBQaVWShYgKS",
        "outputId": "ea031f4e-e59c-4a24-a6fa-3a888f2a0240"
      },
      "source": [
        "ht=[1.65,1.70,1.55,1.80]\n",
        "bmi=map(sample ,mass,ht)\n",
        "list(bmi)"
      ],
      "execution_count": 37,
      "outputs": [
        {
          "output_type": "execute_result",
          "data": {
            "text/plain": [
              "[16.528925619834713,\n",
              " 19.031141868512112,\n",
              " 27.055150884495315,\n",
              " 23.456790123456788]"
            ]
          },
          "metadata": {
            "tags": []
          },
          "execution_count": 37
        }
      ]
    },
    {
      "cell_type": "code",
      "metadata": {
        "colab": {
          "base_uri": "https://localhost:8080/"
        },
        "id": "tjQc2PVPZcCn",
        "outputId": "160dbb0d-a295-4261-92d8-0dec8aa1b422"
      },
      "source": [
        "[item for item in zip(mass,ht)]"
      ],
      "execution_count": 28,
      "outputs": [
        {
          "output_type": "execute_result",
          "data": {
            "text/plain": [
              "[(45, 1.65), (55, 1.7), (65, 1.55), (76, 1.8)]"
            ]
          },
          "metadata": {
            "tags": []
          },
          "execution_count": 28
        }
      ]
    },
    {
      "cell_type": "code",
      "metadata": {
        "colab": {
          "base_uri": "https://localhost:8080/"
        },
        "id": "aMp5KfHJZ6RD",
        "outputId": "49af712c-b1eb-42f8-82d7-938d82ee34e0"
      },
      "source": [
        "45/((1.65)**2)"
      ],
      "execution_count": 32,
      "outputs": [
        {
          "output_type": "execute_result",
          "data": {
            "text/plain": [
              "16.528925619834713"
            ]
          },
          "metadata": {
            "tags": []
          },
          "execution_count": 32
        }
      ]
    },
    {
      "cell_type": "code",
      "metadata": {
        "colab": {
          "base_uri": "https://localhost:8080/"
        },
        "id": "tMxdbipEaavg",
        "outputId": "f5864ee9-f91d-4686-e5f7-0c1a49262d9d"
      },
      "source": [
        "x = \"bhadtresh\" #\n",
        "y = \"bhadtresh\" # Copy Values\n",
        "x, y"
      ],
      "execution_count": 75,
      "outputs": [
        {
          "output_type": "execute_result",
          "data": {
            "text/plain": [
              "('bhadtresh', 'bhadtresh')"
            ]
          },
          "metadata": {
            "tags": []
          },
          "execution_count": 75
        }
      ]
    },
    {
      "cell_type": "code",
      "metadata": {
        "colab": {
          "base_uri": "https://localhost:8080/"
        },
        "id": "AggpxQt0eR-y",
        "outputId": "ba3550a2-c6c9-4235-95b9-1d3d72151910"
      },
      "source": [
        "id(x), id(y)"
      ],
      "execution_count": 76,
      "outputs": [
        {
          "output_type": "execute_result",
          "data": {
            "text/plain": [
              "(140099814534960, 140099814534960)"
            ]
          },
          "metadata": {
            "tags": []
          },
          "execution_count": 76
        }
      ]
    },
    {
      "cell_type": "code",
      "metadata": {
        "colab": {
          "base_uri": "https://localhost:8080/"
        },
        "id": "HyYuPV7Pc-4c",
        "outputId": "7bea7411-c7c5-4d08-ba99-06fa9c648593"
      },
      "source": [
        "x == y"
      ],
      "execution_count": 77,
      "outputs": [
        {
          "output_type": "execute_result",
          "data": {
            "text/plain": [
              "True"
            ]
          },
          "metadata": {
            "tags": []
          },
          "execution_count": 77
        }
      ]
    },
    {
      "cell_type": "code",
      "metadata": {
        "colab": {
          "base_uri": "https://localhost:8080/"
        },
        "id": "5cdIWUaPdCPL",
        "outputId": "79557bbf-267e-4623-a668-c3b699c8c680"
      },
      "source": [
        "x is y"
      ],
      "execution_count": 78,
      "outputs": [
        {
          "output_type": "execute_result",
          "data": {
            "text/plain": [
              "True"
            ]
          },
          "metadata": {
            "tags": []
          },
          "execution_count": 78
        }
      ]
    },
    {
      "cell_type": "code",
      "metadata": {
        "colab": {
          "base_uri": "https://localhost:8080/"
        },
        "id": "nsHWSGomdSH2",
        "outputId": "38681679-51aa-4c50-c67d-9c1674e61184"
      },
      "source": [
        "x.__eq__(y)"
      ],
      "execution_count": 74,
      "outputs": [
        {
          "output_type": "execute_result",
          "data": {
            "text/plain": [
              "True"
            ]
          },
          "metadata": {
            "tags": []
          },
          "execution_count": 74
        }
      ]
    },
    {
      "cell_type": "markdown",
      "metadata": {
        "id": "7yRhnGOMe4aB"
      },
      "source": [
        "## File I/O"
      ]
    },
    {
      "cell_type": "code",
      "metadata": {
        "colab": {
          "base_uri": "https://localhost:8080/"
        },
        "id": "0kFpBNgIdcu7",
        "outputId": "aa06d8fe-21a1-448f-95a1-4c92ccfcc72b"
      },
      "source": [
        "x = input()"
      ],
      "execution_count": 81,
      "outputs": [
        {
          "output_type": "stream",
          "text": [
            "Parth\n"
          ],
          "name": "stdout"
        }
      ]
    },
    {
      "cell_type": "code",
      "metadata": {
        "colab": {
          "base_uri": "https://localhost:8080/",
          "height": 35
        },
        "id": "7wZ3fY_jezrT",
        "outputId": "e85c6cb5-bcca-466d-d6a2-ce5b420aa6f8"
      },
      "source": [
        "x"
      ],
      "execution_count": 82,
      "outputs": [
        {
          "output_type": "execute_result",
          "data": {
            "application/vnd.google.colaboratory.intrinsic+json": {
              "type": "string"
            },
            "text/plain": [
              "'Parth'"
            ]
          },
          "metadata": {
            "tags": []
          },
          "execution_count": 82
        }
      ]
    },
    {
      "cell_type": "code",
      "metadata": {
        "id": "id4JYiwre25W"
      },
      "source": [
        "import pandas as pd"
      ],
      "execution_count": 83,
      "outputs": []
    },
    {
      "cell_type": "code",
      "metadata": {
        "id": "Ahnar2fahdAO"
      },
      "source": [
        "df = pd.read_excel('IO LIST MF33.xlsx')"
      ],
      "execution_count": 106,
      "outputs": []
    },
    {
      "cell_type": "code",
      "metadata": {
        "colab": {
          "base_uri": "https://localhost:8080/",
          "height": 195
        },
        "id": "rTw2IBxGhtNz",
        "outputId": "07e783a1-1a05-4311-c4f7-4f288fc6cad5"
      },
      "source": [
        "df.head()"
      ],
      "execution_count": 107,
      "outputs": [
        {
          "output_type": "execute_result",
          "data": {
            "text/html": [
              "<div>\n",
              "<style scoped>\n",
              "    .dataframe tbody tr th:only-of-type {\n",
              "        vertical-align: middle;\n",
              "    }\n",
              "\n",
              "    .dataframe tbody tr th {\n",
              "        vertical-align: top;\n",
              "    }\n",
              "\n",
              "    .dataframe thead th {\n",
              "        text-align: right;\n",
              "    }\n",
              "</style>\n",
              "<table border=\"1\" class=\"dataframe\">\n",
              "  <thead>\n",
              "    <tr style=\"text-align: right;\">\n",
              "      <th></th>\n",
              "      <th>Unnamed: 0</th>\n",
              "      <th>name9</th>\n",
              "      <th>name10</th>\n",
              "      <th>address</th>\n",
              "      <th>ns2:xhtml</th>\n",
              "    </tr>\n",
              "  </thead>\n",
              "  <tbody>\n",
              "    <tr>\n",
              "      <th>0</th>\n",
              "      <td>NaN</td>\n",
              "      <td>GVL_INPUT_OUTPUT</td>\n",
              "      <td>bAUTO_SW</td>\n",
              "      <td>%IX0.0</td>\n",
              "      <td>AUTO MANUAL SELECTOR SWITCH</td>\n",
              "    </tr>\n",
              "    <tr>\n",
              "      <th>1</th>\n",
              "      <td>NaN</td>\n",
              "      <td>GVL_INPUT_OUTPUT</td>\n",
              "      <td>bCycleSTART_PB</td>\n",
              "      <td>%IX0.1</td>\n",
              "      <td>START PUSH BUTTOM</td>\n",
              "    </tr>\n",
              "    <tr>\n",
              "      <th>2</th>\n",
              "      <td>NaN</td>\n",
              "      <td>GVL_INPUT_OUTPUT</td>\n",
              "      <td>bCycleSTOP_PB</td>\n",
              "      <td>%IX0.2</td>\n",
              "      <td>AUTO MANUAL SELECTOR SWITCH</td>\n",
              "    </tr>\n",
              "    <tr>\n",
              "      <th>3</th>\n",
              "      <td>NaN</td>\n",
              "      <td>GVL_INPUT_OUTPUT</td>\n",
              "      <td>bRESET_PB</td>\n",
              "      <td>%IX0.3</td>\n",
              "      <td>RESET PUSH BUTTON</td>\n",
              "    </tr>\n",
              "    <tr>\n",
              "      <th>4</th>\n",
              "      <td>NaN</td>\n",
              "      <td>GVL_INPUT_OUTPUT</td>\n",
              "      <td>bCyclePAUSE_PB</td>\n",
              "      <td>%IX0.4</td>\n",
              "      <td>STOP PUSH BUTTON</td>\n",
              "    </tr>\n",
              "  </tbody>\n",
              "</table>\n",
              "</div>"
            ],
            "text/plain": [
              "   Unnamed: 0             name9  ... address                    ns2:xhtml\n",
              "0         NaN  GVL_INPUT_OUTPUT  ...  %IX0.0  AUTO MANUAL SELECTOR SWITCH\n",
              "1         NaN  GVL_INPUT_OUTPUT  ...  %IX0.1            START PUSH BUTTOM\n",
              "2         NaN  GVL_INPUT_OUTPUT  ...  %IX0.2  AUTO MANUAL SELECTOR SWITCH\n",
              "3         NaN  GVL_INPUT_OUTPUT  ...  %IX0.3            RESET PUSH BUTTON\n",
              "4         NaN  GVL_INPUT_OUTPUT  ...  %IX0.4             STOP PUSH BUTTON\n",
              "\n",
              "[5 rows x 5 columns]"
            ]
          },
          "metadata": {
            "tags": []
          },
          "execution_count": 107
        }
      ]
    },
    {
      "cell_type": "code",
      "metadata": {
        "colab": {
          "base_uri": "https://localhost:8080/"
        },
        "id": "prq1QhyHj5Q9",
        "outputId": "de57ac20-55ac-4b44-9cc6-657784428d67"
      },
      "source": [
        "df.columns"
      ],
      "execution_count": 108,
      "outputs": [
        {
          "output_type": "execute_result",
          "data": {
            "text/plain": [
              "Index(['Unnamed: 0', 'name9', 'name10', 'address', 'ns2:xhtml'], dtype='object')"
            ]
          },
          "metadata": {
            "tags": []
          },
          "execution_count": 108
        }
      ]
    },
    {
      "cell_type": "code",
      "metadata": {
        "id": "J0AGC2vij8fK"
      },
      "source": [
        "name_df = df[['name9', 'name10', 'address', 'ns2:xhtml']]"
      ],
      "execution_count": 110,
      "outputs": []
    },
    {
      "cell_type": "code",
      "metadata": {
        "colab": {
          "base_uri": "https://localhost:8080/",
          "height": 486
        },
        "id": "H3KuRRUCjJD6",
        "outputId": "6a876ba7-fffc-4a03-e23c-1e6aad3aff11"
      },
      "source": [
        "name_df.dropna(inplace=True)\n",
        "name_df"
      ],
      "execution_count": 112,
      "outputs": [
        {
          "output_type": "stream",
          "text": [
            "/usr/local/lib/python3.7/dist-packages/ipykernel_launcher.py:1: SettingWithCopyWarning: \n",
            "A value is trying to be set on a copy of a slice from a DataFrame\n",
            "\n",
            "See the caveats in the documentation: https://pandas.pydata.org/pandas-docs/stable/user_guide/indexing.html#returning-a-view-versus-a-copy\n",
            "  \"\"\"Entry point for launching an IPython kernel.\n"
          ],
          "name": "stderr"
        },
        {
          "output_type": "execute_result",
          "data": {
            "text/html": [
              "<div>\n",
              "<style scoped>\n",
              "    .dataframe tbody tr th:only-of-type {\n",
              "        vertical-align: middle;\n",
              "    }\n",
              "\n",
              "    .dataframe tbody tr th {\n",
              "        vertical-align: top;\n",
              "    }\n",
              "\n",
              "    .dataframe thead th {\n",
              "        text-align: right;\n",
              "    }\n",
              "</style>\n",
              "<table border=\"1\" class=\"dataframe\">\n",
              "  <thead>\n",
              "    <tr style=\"text-align: right;\">\n",
              "      <th></th>\n",
              "      <th>name9</th>\n",
              "      <th>name10</th>\n",
              "      <th>address</th>\n",
              "      <th>ns2:xhtml</th>\n",
              "    </tr>\n",
              "  </thead>\n",
              "  <tbody>\n",
              "    <tr>\n",
              "      <th>0</th>\n",
              "      <td>GVL_INPUT_OUTPUT</td>\n",
              "      <td>bAUTO_SW</td>\n",
              "      <td>%IX0.0</td>\n",
              "      <td>AUTO MANUAL SELECTOR SWITCH</td>\n",
              "    </tr>\n",
              "    <tr>\n",
              "      <th>1</th>\n",
              "      <td>GVL_INPUT_OUTPUT</td>\n",
              "      <td>bCycleSTART_PB</td>\n",
              "      <td>%IX0.1</td>\n",
              "      <td>START PUSH BUTTOM</td>\n",
              "    </tr>\n",
              "    <tr>\n",
              "      <th>2</th>\n",
              "      <td>GVL_INPUT_OUTPUT</td>\n",
              "      <td>bCycleSTOP_PB</td>\n",
              "      <td>%IX0.2</td>\n",
              "      <td>AUTO MANUAL SELECTOR SWITCH</td>\n",
              "    </tr>\n",
              "    <tr>\n",
              "      <th>3</th>\n",
              "      <td>GVL_INPUT_OUTPUT</td>\n",
              "      <td>bRESET_PB</td>\n",
              "      <td>%IX0.3</td>\n",
              "      <td>RESET PUSH BUTTON</td>\n",
              "    </tr>\n",
              "    <tr>\n",
              "      <th>4</th>\n",
              "      <td>GVL_INPUT_OUTPUT</td>\n",
              "      <td>bCyclePAUSE_PB</td>\n",
              "      <td>%IX0.4</td>\n",
              "      <td>STOP PUSH BUTTON</td>\n",
              "    </tr>\n",
              "    <tr>\n",
              "      <th>...</th>\n",
              "      <td>...</td>\n",
              "      <td>...</td>\n",
              "      <td>...</td>\n",
              "      <td>...</td>\n",
              "    </tr>\n",
              "    <tr>\n",
              "      <th>188</th>\n",
              "      <td>GVL_INPUT_OUTPUT</td>\n",
              "      <td>bDB_END_FOLDING_BEAM_LR_RETURN_SV</td>\n",
              "      <td>%QX8.0</td>\n",
              "      <td>LEFT RIGHT END FOLDING BEAM RETURNS</td>\n",
              "    </tr>\n",
              "    <tr>\n",
              "      <th>192</th>\n",
              "      <td>GVL_INPUT_OUTPUT</td>\n",
              "      <td>bOUTPUT_TROLLEY1_PULLER_UP_SV</td>\n",
              "      <td>%QX8.4</td>\n",
              "      <td>SPARE</td>\n",
              "    </tr>\n",
              "    <tr>\n",
              "      <th>193</th>\n",
              "      <td>GVL_INPUT_OUTPUT</td>\n",
              "      <td>bOUTPUT_TROLLEY1_PULLER_DOWN_SV</td>\n",
              "      <td>%QX8.5</td>\n",
              "      <td>SPARE</td>\n",
              "    </tr>\n",
              "    <tr>\n",
              "      <th>195</th>\n",
              "      <td>GVL_INPUT_OUTPUT</td>\n",
              "      <td>SPARE_23o</td>\n",
              "      <td>%QX8.7</td>\n",
              "      <td>SPARE</td>\n",
              "    </tr>\n",
              "    <tr>\n",
              "      <th>196</th>\n",
              "      <td>GVL_INPUT_OUTPUT</td>\n",
              "      <td>bENCODER_ZERO_L</td>\n",
              "      <td>%Q*</td>\n",
              "      <td>**********************************************...</td>\n",
              "    </tr>\n",
              "  </tbody>\n",
              "</table>\n",
              "<p>168 rows × 4 columns</p>\n",
              "</div>"
            ],
            "text/plain": [
              "                name9  ...                                          ns2:xhtml\n",
              "0    GVL_INPUT_OUTPUT  ...                        AUTO MANUAL SELECTOR SWITCH\n",
              "1    GVL_INPUT_OUTPUT  ...                                  START PUSH BUTTOM\n",
              "2    GVL_INPUT_OUTPUT  ...                        AUTO MANUAL SELECTOR SWITCH\n",
              "3    GVL_INPUT_OUTPUT  ...                                  RESET PUSH BUTTON\n",
              "4    GVL_INPUT_OUTPUT  ...                                   STOP PUSH BUTTON\n",
              "..                ...  ...                                                ...\n",
              "188  GVL_INPUT_OUTPUT  ...                LEFT RIGHT END FOLDING BEAM RETURNS\n",
              "192  GVL_INPUT_OUTPUT  ...                                              SPARE\n",
              "193  GVL_INPUT_OUTPUT  ...                                              SPARE\n",
              "195  GVL_INPUT_OUTPUT  ...                                              SPARE\n",
              "196  GVL_INPUT_OUTPUT  ...  **********************************************...\n",
              "\n",
              "[168 rows x 4 columns]"
            ]
          },
          "metadata": {
            "tags": []
          },
          "execution_count": 112
        }
      ]
    },
    {
      "cell_type": "code",
      "metadata": {
        "colab": {
          "base_uri": "https://localhost:8080/"
        },
        "id": "RJz9xCxti0u5",
        "outputId": "747a39ad-d11d-44ad-fd56-f41965990a97"
      },
      "source": [
        "name_df['bhadresh'] = name_df['name10'].apply(lambda x: x+\"_a\")"
      ],
      "execution_count": 117,
      "outputs": [
        {
          "output_type": "stream",
          "text": [
            "/usr/local/lib/python3.7/dist-packages/ipykernel_launcher.py:1: SettingWithCopyWarning: \n",
            "A value is trying to be set on a copy of a slice from a DataFrame.\n",
            "Try using .loc[row_indexer,col_indexer] = value instead\n",
            "\n",
            "See the caveats in the documentation: https://pandas.pydata.org/pandas-docs/stable/user_guide/indexing.html#returning-a-view-versus-a-copy\n",
            "  \"\"\"Entry point for launching an IPython kernel.\n"
          ],
          "name": "stderr"
        }
      ]
    },
    {
      "cell_type": "code",
      "metadata": {
        "colab": {
          "base_uri": "https://localhost:8080/",
          "height": 195
        },
        "id": "UguDN9KukSVZ",
        "outputId": "7aba8846-90f8-4361-c2f6-9e14435c2453"
      },
      "source": [
        "name_df.head()"
      ],
      "execution_count": 118,
      "outputs": [
        {
          "output_type": "execute_result",
          "data": {
            "text/html": [
              "<div>\n",
              "<style scoped>\n",
              "    .dataframe tbody tr th:only-of-type {\n",
              "        vertical-align: middle;\n",
              "    }\n",
              "\n",
              "    .dataframe tbody tr th {\n",
              "        vertical-align: top;\n",
              "    }\n",
              "\n",
              "    .dataframe thead th {\n",
              "        text-align: right;\n",
              "    }\n",
              "</style>\n",
              "<table border=\"1\" class=\"dataframe\">\n",
              "  <thead>\n",
              "    <tr style=\"text-align: right;\">\n",
              "      <th></th>\n",
              "      <th>name9</th>\n",
              "      <th>name10</th>\n",
              "      <th>address</th>\n",
              "      <th>ns2:xhtml</th>\n",
              "      <th>bhadresh</th>\n",
              "    </tr>\n",
              "  </thead>\n",
              "  <tbody>\n",
              "    <tr>\n",
              "      <th>0</th>\n",
              "      <td>GVL_INPUT_OUTPUT</td>\n",
              "      <td>bAUTO_SW</td>\n",
              "      <td>%IX0.0</td>\n",
              "      <td>AUTO MANUAL SELECTOR SWITCH</td>\n",
              "      <td>bAUTO_SW_a</td>\n",
              "    </tr>\n",
              "    <tr>\n",
              "      <th>1</th>\n",
              "      <td>GVL_INPUT_OUTPUT</td>\n",
              "      <td>bCycleSTART_PB</td>\n",
              "      <td>%IX0.1</td>\n",
              "      <td>START PUSH BUTTOM</td>\n",
              "      <td>bCycleSTART_PB_a</td>\n",
              "    </tr>\n",
              "    <tr>\n",
              "      <th>2</th>\n",
              "      <td>GVL_INPUT_OUTPUT</td>\n",
              "      <td>bCycleSTOP_PB</td>\n",
              "      <td>%IX0.2</td>\n",
              "      <td>AUTO MANUAL SELECTOR SWITCH</td>\n",
              "      <td>bCycleSTOP_PB_a</td>\n",
              "    </tr>\n",
              "    <tr>\n",
              "      <th>3</th>\n",
              "      <td>GVL_INPUT_OUTPUT</td>\n",
              "      <td>bRESET_PB</td>\n",
              "      <td>%IX0.3</td>\n",
              "      <td>RESET PUSH BUTTON</td>\n",
              "      <td>bRESET_PB_a</td>\n",
              "    </tr>\n",
              "    <tr>\n",
              "      <th>4</th>\n",
              "      <td>GVL_INPUT_OUTPUT</td>\n",
              "      <td>bCyclePAUSE_PB</td>\n",
              "      <td>%IX0.4</td>\n",
              "      <td>STOP PUSH BUTTON</td>\n",
              "      <td>bCyclePAUSE_PB_a</td>\n",
              "    </tr>\n",
              "  </tbody>\n",
              "</table>\n",
              "</div>"
            ],
            "text/plain": [
              "              name9  ...          bhadresh\n",
              "0  GVL_INPUT_OUTPUT  ...        bAUTO_SW_a\n",
              "1  GVL_INPUT_OUTPUT  ...  bCycleSTART_PB_a\n",
              "2  GVL_INPUT_OUTPUT  ...   bCycleSTOP_PB_a\n",
              "3  GVL_INPUT_OUTPUT  ...       bRESET_PB_a\n",
              "4  GVL_INPUT_OUTPUT  ...  bCyclePAUSE_PB_a\n",
              "\n",
              "[5 rows x 5 columns]"
            ]
          },
          "metadata": {
            "tags": []
          },
          "execution_count": 118
        }
      ]
    },
    {
      "cell_type": "code",
      "metadata": {
        "id": "3sqMAGthkVfv"
      },
      "source": [
        "name_df.to_excel('bhavesh_paisa_app.xlsx', index=True)"
      ],
      "execution_count": 119,
      "outputs": []
    },
    {
      "cell_type": "code",
      "metadata": {
        "colab": {
          "base_uri": "https://localhost:8080/"
        },
        "id": "DlF5sEnnhhef",
        "outputId": "ea08b94f-396f-43d4-f12e-a88332b80461"
      },
      "source": [
        "df.info()"
      ],
      "execution_count": 87,
      "outputs": [
        {
          "output_type": "stream",
          "text": [
            "<class 'pandas.core.frame.DataFrame'>\n",
            "RangeIndex: 201 entries, 0 to 200\n",
            "Data columns (total 5 columns):\n",
            " #   Column      Non-Null Count  Dtype  \n",
            "---  ------      --------------  -----  \n",
            " 0   Unnamed: 0  0 non-null      float64\n",
            " 1   name9       199 non-null    object \n",
            " 2   name10      196 non-null    object \n",
            " 3   address     196 non-null    object \n",
            " 4   ns2:xhtml   168 non-null    object \n",
            "dtypes: float64(1), object(4)\n",
            "memory usage: 8.0+ KB\n"
          ],
          "name": "stdout"
        }
      ]
    },
    {
      "cell_type": "code",
      "metadata": {
        "colab": {
          "base_uri": "https://localhost:8080/",
          "height": 162
        },
        "id": "jGzq_RbSilqs",
        "outputId": "ed245281-204e-4d08-fc64-a8c20070580c"
      },
      "source": [
        "df.ns2:xhtml.value_counts()"
      ],
      "execution_count": 92,
      "outputs": [
        {
          "output_type": "error",
          "ename": "NameError",
          "evalue": "ignored",
          "traceback": [
            "\u001b[0;31m---------------------------------------------------------------------------\u001b[0m",
            "\u001b[0;31mNameError\u001b[0m                                 Traceback (most recent call last)",
            "\u001b[0;32m<ipython-input-92-2db92c69e2e7>\u001b[0m in \u001b[0;36m<module>\u001b[0;34m()\u001b[0m\n\u001b[0;32m----> 1\u001b[0;31m \u001b[0mdf\u001b[0m\u001b[0;34m.\u001b[0m\u001b[0mns2\u001b[0m\u001b[0;34m:\u001b[0m\u001b[0mxhtml\u001b[0m\u001b[0;34m.\u001b[0m\u001b[0mvalue_counts\u001b[0m\u001b[0;34m(\u001b[0m\u001b[0;34m)\u001b[0m\u001b[0;34m\u001b[0m\u001b[0;34m\u001b[0m\u001b[0m\n\u001b[0m",
            "\u001b[0;31mNameError\u001b[0m: name 'xhtml' is not defined"
          ]
        }
      ]
    },
    {
      "cell_type": "code",
      "metadata": {
        "colab": {
          "base_uri": "https://localhost:8080/"
        },
        "id": "RK3Pf4-5hlJ5",
        "outputId": "26ce2f6c-2876-40f3-be5b-c7b0d6ef4954"
      },
      "source": [
        "df.name9.value_counts()"
      ],
      "execution_count": 89,
      "outputs": [
        {
          "output_type": "execute_result",
          "data": {
            "text/plain": [
              "GVL_INPUT_OUTPUT    199\n",
              "Name: name9, dtype: int64"
            ]
          },
          "metadata": {
            "tags": []
          },
          "execution_count": 89
        }
      ]
    },
    {
      "cell_type": "code",
      "metadata": {
        "colab": {
          "base_uri": "https://localhost:8080/"
        },
        "id": "ntkk3ms-iNbn",
        "outputId": "5cfed682-80bb-4445-ebc4-b7d05a58e1ba"
      },
      "source": [
        "df.name10.value_counts()"
      ],
      "execution_count": 90,
      "outputs": [
        {
          "output_type": "execute_result",
          "data": {
            "text/plain": [
              "bDB_HYDRAULIC_MOTOR_ON                     1\n",
              "bDB_MODULE_MOVEMENT_FORWARD_PRXY           1\n",
              "bDB_END_TOP_BEAM_LR_UP_PS                  1\n",
              "bSPARE_12i                                 1\n",
              "bPNP_TROLLEY_REVRSE_END_STOP_PRXY          1\n",
              "                                          ..\n",
              "bSB_SHEET_LOADED_ON_TRANSFER_TABLE_PRXY    1\n",
              "bSPARE_18i                                 1\n",
              "bSB_FOLD_BEAM_REV_PS                       1\n",
              "bPNP_TROLLEY_UP_SV                         1\n",
              "SPARE_9o                                   1\n",
              "Name: name10, Length: 196, dtype: int64"
            ]
          },
          "metadata": {
            "tags": []
          },
          "execution_count": 90
        }
      ]
    },
    {
      "cell_type": "code",
      "metadata": {
        "colab": {
          "base_uri": "https://localhost:8080/"
        },
        "id": "BYmWyk-UiVz3",
        "outputId": "8655c3d8-bbec-4b33-d3c4-6ab631417591"
      },
      "source": [
        "df.address.value_counts()"
      ],
      "execution_count": 91,
      "outputs": [
        {
          "output_type": "execute_result",
          "data": {
            "text/plain": [
              "%I*        4\n",
              "%Q*        2\n",
              "%QX2.6     1\n",
              "%QX9.5     1\n",
              "%IX10.0    1\n",
              "          ..\n",
              "%QX7.7     1\n",
              "%IX0.1     1\n",
              "%IX12.6    1\n",
              "%IX3.0     1\n",
              "%QX0.0     1\n",
              "Name: address, Length: 192, dtype: int64"
            ]
          },
          "metadata": {
            "tags": []
          },
          "execution_count": 91
        }
      ]
    },
    {
      "cell_type": "code",
      "metadata": {
        "id": "nl_BMsN0ifa4"
      },
      "source": [
        ""
      ],
      "execution_count": null,
      "outputs": []
    }
  ]
}